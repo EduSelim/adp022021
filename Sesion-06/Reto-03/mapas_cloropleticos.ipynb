{
 "cells": [
  {
   "cell_type": "markdown",
   "metadata": {},
   "source": [
    "## Reto 3: Mapas Cloropléticos\n",
    "\n",
    "### 1. Objetivos:\n",
    "    - Aprender a generar e interpretar mapas cloropléticos\n",
    " \n",
    "---\n",
    "    \n",
    "### 2. Desarrollo:"
   ]
  },
  {
   "cell_type": "markdown",
   "metadata": {},
   "source": [
    "### a) Diferencias demográficas a través de la República Mexicana\n",
    "\n",
    "Para este Reto vamos a generar un mapa cloroplético que muestre visualmente las diferencias de cantidad de población en los Estados de la República Mexicana. Utilizaremos la librería `folium` para lograr esto.\n",
    "\n",
    "En nuestra carpeta de Datasets se encuentran los dos archivos que vamos a necesitar para generar este mapa. Nuestro archivo GeoJSON se llama 'mexico.json' y el dataset con los datos de población por Estado se llama 'poblacion_mexico_2010.csv'.\n",
    "\n",
    "En caso de que tengas dudas, puedes revisar [la documentación de Folium](https://python-visualization.github.io/folium/quickstart.html).\n",
    "\n",
    "> Reto extra: Si quieres un Reto extra, puedes intentar agregar popups para que cuando el usuario coloque el puntero sobre un Estado pueda visualizar el valor numérico que representa la población en dicho Estado. Puedes seguir [este tutorial](https://vverde.github.io/blob/interactivechoropleth.html) para lograrlo (el tutorial está en inglés)."
   ]
  },
  {
   "cell_type": "code",
   "execution_count": null,
   "metadata": {},
   "outputs": [],
   "source": []
  }
 ],
 "metadata": {
  "kernelspec": {
   "display_name": "Python (data_science)",
   "language": "python",
   "name": "data_science"
  },
  "language_info": {
   "codemirror_mode": {
    "name": "ipython",
    "version": 3
   },
   "file_extension": ".py",
   "mimetype": "text/x-python",
   "name": "python",
   "nbconvert_exporter": "python",
   "pygments_lexer": "ipython3",
   "version": "3.7.6"
  }
 },
 "nbformat": 4,
 "nbformat_minor": 4
}
