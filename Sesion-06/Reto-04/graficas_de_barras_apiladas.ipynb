{
 "cells": [
  {
   "cell_type": "markdown",
   "metadata": {},
   "source": [
    "## Reto 4: Gráficas de Barras Apiladas\n",
    "\n",
    "### 1. Objetivos:\n",
    "    - Aprender a generar e interpretar gráficas de barras apiladas\n",
    " \n",
    "---\n",
    "    \n",
    "### 2. Desarrollo:"
   ]
  },
  {
   "cell_type": "markdown",
   "metadata": {},
   "source": [
    "### a) Uso de tierra de propiedades en venta en Melbourne, Australia\n",
    "\n",
    "Ya usamos un treemap para visualizar el uso de tierra de propiedades en venta en Melbourne, Australia. Vamos a realizar el mismo análisis pero ahora utilizando gráficas de barras apiladas, para ver qué diferencias y similitudes tienen. Queremos visualizar lo mismo que en el Reto 1: después de segmentar nuestros datos por regiones y por tipos de propiedad, ¿cómo se compara el uso de tierra de cada uno con los demás?\n",
    "\n",
    "El Reto consiste en dos partes. La primera parte es la siguiente:\n",
    "\n",
    "1. Lee el dataset 'melbourne_housing-clean.csv'.\n",
    "2. Realiza una gráfica de barras convencional donde el eje `x` sea el nombre de la región ('region_name') y el eje `y` sea la suma total del 'land_size' de todas las propiedades que se encuentran en esa región. Asegúrate de que las barras estén ordenadas de mayor a menor.\n",
    "3. Asegúrate de que el título y los nombres de ejes sean adecuados. Además elige una paleta de colores agradable para las barras. Ten cuidado con los nombres de los tics en el eje `x`: si quedan muy apretados, tendrás que girarlos para que sean legibles.\n",
    "\n",
    "La segunda parte del Reto es la siguiente:\n",
    "\n",
    "1. Vamos ahora a realizar una segunda agrupación. Además de agrupar tus datos por región, también agrúpalos por tipo de propiedad.\n",
    "2. Realiza una gráfica de barras apilada con las siguientes características:\n",
    "\n",
    "  a) El eje `x` son los nombres de las regiones\n",
    "  b) El eje `y` es el total de 'land_size' de todas las propiedades contenidas en cada región\n",
    "  c) Cada barra estará dividida en 3 partes (cuando aplique), una parte por cada tipo de propiedad\n",
    "  \n",
    "Lo que estamos obteniendo entonces es la misma gráfica de barras de la primera parte, pero con cada barra segmentada por tipo de propiedad. De esta manera es fácil ver la contribución que tiene cada tipo de propiedad al total de 'land_size' en cada región.\n",
    "3. Asegúrate como siempre de que la gráfica sea agradable y comprensible.\n",
    "\n",
    "Comenta tus hallazgos con tus compañeros y la experta. Específicamente discutan las preguntas siguientes: ¿Cómo se compara esta visualización con el treemap que realizamos en el Reto 1? ¿Cuál te parece más clara de las dos? ¿Hay información en cada una de las gráficas que no es posible extraer de la otra? ¿En qué contexto utilizarías tú cada una de ellas?"
   ]
  },
  {
   "cell_type": "code",
   "execution_count": null,
   "metadata": {},
   "outputs": [],
   "source": []
  }
 ],
 "metadata": {
  "kernelspec": {
   "display_name": "Python (data_science)",
   "language": "python",
   "name": "data_science"
  },
  "language_info": {
   "codemirror_mode": {
    "name": "ipython",
    "version": 3
   },
   "file_extension": ".py",
   "mimetype": "text/x-python",
   "name": "python",
   "nbconvert_exporter": "python",
   "pygments_lexer": "ipython3",
   "version": "3.7.6"
  }
 },
 "nbformat": 4,
 "nbformat_minor": 4
}
