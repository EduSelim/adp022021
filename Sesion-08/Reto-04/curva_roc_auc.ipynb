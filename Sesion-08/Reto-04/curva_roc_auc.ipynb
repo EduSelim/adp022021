{
 "cells": [
  {
   "cell_type": "markdown",
   "metadata": {},
   "source": [
    "## Reto 4: Curva ROC / AUC\n",
    "\n",
    "### 1. Objetivos:\n",
    "    - Aprender a evaluar un modelo de clasificación binaria utilizando una curva ROC / AUC.\n",
    "    \n",
    "---\n",
    "    \n",
    "### 2. Desarrollo:"
   ]
  },
  {
   "cell_type": "markdown",
   "metadata": {},
   "source": [
    "Ahora, vamos a evaluar nuestro mismo modelo utilizando una curva ROC / AUC. Tu Reto consiste en lo siguiente:\n",
    "\n",
    "1. Copia el código del Reto anterior a este Reto, de manera que tengas un modelo entrenado que sea similar.\n",
    "2. Esta vez, realiza las clasificaciones de tu dataset de prueba de manera que obtengas probabilidades en vez de resultados binarios.\n",
    "3. Obtén la proporción de Verdaderos Positivos y de Falsos Positivos utilizando el método `roc_curve` de `sklearn.metrics`.\n",
    "4. Obtén el valor de AUC usando el método `auc` de `sklearn.metrics`.\n",
    "5. Grafica tu curva ROC / AUC para visualizar el desempeño de tu modelo.\n",
    "\n",
    "> **Reto extra**: Para un reto extra, obtén las series de proporciones de Verdaderos Positivos y de Falsos Positivos sin utilizar los métodos de `sklearn`. Esto es un reto bastante difícil, pero si te interesa practicar tus habilidades al máximo, pídele a la experta que te ayude a entender cómo lograr esto."
   ]
  },
  {
   "cell_type": "code",
   "execution_count": null,
   "metadata": {},
   "outputs": [],
   "source": []
  }
 ],
 "metadata": {
  "kernelspec": {
   "display_name": "Python (data_science)",
   "language": "python",
   "name": "data_science"
  },
  "language_info": {
   "codemirror_mode": {
    "name": "ipython",
    "version": 3
   },
   "file_extension": ".py",
   "mimetype": "text/x-python",
   "name": "python",
   "nbconvert_exporter": "python",
   "pygments_lexer": "ipython3",
   "version": "3.7.6"
  }
 },
 "nbformat": 4,
 "nbformat_minor": 4
}
