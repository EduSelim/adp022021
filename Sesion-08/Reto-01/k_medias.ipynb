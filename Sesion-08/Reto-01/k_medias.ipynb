{
 "cells": [
  {
   "cell_type": "markdown",
   "metadata": {},
   "source": [
    "## Reto 1: K-Medias\n",
    "\n",
    "### 1. Objetivos:\n",
    "    - Aprender a aplicar un algoritmo de K-Medias\n",
    "    \n",
    "---\n",
    "    \n",
    "### 2. Desarrollo:"
   ]
  },
  {
   "cell_type": "markdown",
   "metadata": {},
   "source": [
    "### Segmentación por subregiones de los usuarios de un producto\n",
    "\n",
    "Tenemos un conjunto de datos llamado 'distribucion_usuarios.csv'. En este dataset tenemos las latitudes y longitudes de todos los usuarios de un producto que viven en una misma región. Como compañía, queremos establecer centros de servicio al cliente para atender todas las demandas de servicios en esta región. Vamos a utilizar el algoritmo K-Medias para segmentar nuestra región en subregiones. Cada subregión tendrá un centro de servicio en su centroide.\n",
    "\n",
    "El dataset también contiene el código único de cada usuario y 4 columnas llamadas: 'producto_1', 'producto_2', 'producto_3', 'producto_4'. Estas columnas contienen un 1 en caso de que el usuario haya adquirido ese producto, y un 0 en caso de que el producto no haya sido adquirido.\n",
    "\n",
    "Tu Reto consiste en lo siguiente:\n",
    "\n",
    "1. Lee el dataset 'distribucion_usuarios.csv'.\n",
    "2. Utiliza un scatterplot para visualizar las latitudes y longitudes de tu conjunto de datos.\n",
    "3. Después utiliza la clase KMeans de `scikit-learn` para encontrar 7 centroides.\n",
    "4. Ya que hayas encontrado tus centroides, crea una nueva visualización donde además de tus puntos, grafiques los 7 centros.\n",
    "5. Ahora, utiliza tu modelo para clasificar tus puntos.\n",
    "6. Después agrega segmentación por color a tu gráfica para que los puntos se coloreen de acuerdo al grupo al que pertenecen.\n",
    "7. Ya que tienes tus puntos clasificados, agrega la clasificación al DataFrame original.\n",
    "8. Ahora, segmenta tu DataFrame por grupo y obtén los siguientes datos:\n",
    "    1. Cantidad total de usuarios por grupo\n",
    "    2. Cantidades totales de producto 1, 2, 3 y 4 por grupo\n",
    "9. Realiza una gráfica de barras para visualizar la cantidad de usuarios que hay en cada uno de los grupos\n",
    "10. Finalmente, genera una gráfica de barras apiladas con los totales de productos adquiridos por grupo. Cada segmento de la barra será la cantidad de producto adquirido en un grupo en específico.\n",
    "11. Comenta tus hallazgos con tus compañeros y la experta."
   ]
  },
  {
   "cell_type": "code",
   "execution_count": null,
   "metadata": {},
   "outputs": [],
   "source": []
  }
 ],
 "metadata": {
  "kernelspec": {
   "display_name": "Python (data_science)",
   "language": "python",
   "name": "data_science"
  },
  "language_info": {
   "codemirror_mode": {
    "name": "ipython",
    "version": 3
   },
   "file_extension": ".py",
   "mimetype": "text/x-python",
   "name": "python",
   "nbconvert_exporter": "python",
   "pygments_lexer": "ipython3",
   "version": "3.7.6"
  }
 },
 "nbformat": 4,
 "nbformat_minor": 4
}
