{
 "cells": [
  {
   "cell_type": "code",
   "execution_count": 1,
   "metadata": {},
   "outputs": [],
   "source": [
    "import pandas as pd"
   ]
  },
  {
   "cell_type": "code",
   "execution_count": 19,
   "metadata": {},
   "outputs": [],
   "source": [
    "df = pd.read_csv('../Datasets/melbourne_housing-clean.csv', index_col=0)"
   ]
  },
  {
   "cell_type": "code",
   "execution_count": 20,
   "metadata": {},
   "outputs": [
    {
     "data": {
      "text/html": [
       "<div>\n",
       "<style scoped>\n",
       "    .dataframe tbody tr th:only-of-type {\n",
       "        vertical-align: middle;\n",
       "    }\n",
       "\n",
       "    .dataframe tbody tr th {\n",
       "        vertical-align: top;\n",
       "    }\n",
       "\n",
       "    .dataframe thead th {\n",
       "        text-align: right;\n",
       "    }\n",
       "</style>\n",
       "<table border=\"1\" class=\"dataframe\">\n",
       "  <thead>\n",
       "    <tr style=\"text-align: right;\">\n",
       "      <th></th>\n",
       "      <th>suburb</th>\n",
       "      <th>address</th>\n",
       "      <th>rooms</th>\n",
       "      <th>type</th>\n",
       "      <th>price</th>\n",
       "      <th>method</th>\n",
       "      <th>seller_g</th>\n",
       "      <th>date</th>\n",
       "      <th>distance</th>\n",
       "      <th>postcode</th>\n",
       "      <th>bedroom_2</th>\n",
       "      <th>bathroom</th>\n",
       "      <th>car</th>\n",
       "      <th>land_size</th>\n",
       "      <th>council_area</th>\n",
       "      <th>latitude</th>\n",
       "      <th>longitude</th>\n",
       "      <th>region_name</th>\n",
       "      <th>property_count</th>\n",
       "    </tr>\n",
       "  </thead>\n",
       "  <tbody>\n",
       "    <tr>\n",
       "      <th>11641</th>\n",
       "      <td>Whittlesea</td>\n",
       "      <td>30 Sherwin St</td>\n",
       "      <td>3</td>\n",
       "      <td>h</td>\n",
       "      <td>601000.0</td>\n",
       "      <td>S</td>\n",
       "      <td>Ray</td>\n",
       "      <td>29/07/2017</td>\n",
       "      <td>35.5</td>\n",
       "      <td>3757.0</td>\n",
       "      <td>3.0</td>\n",
       "      <td>2.0</td>\n",
       "      <td>2.0</td>\n",
       "      <td>1970.0</td>\n",
       "      <td>Manningham</td>\n",
       "      <td>-37.76311</td>\n",
       "      <td>145.10494</td>\n",
       "      <td>Northern Victoria</td>\n",
       "      <td>2170.0</td>\n",
       "    </tr>\n",
       "    <tr>\n",
       "      <th>11642</th>\n",
       "      <td>Williamstown</td>\n",
       "      <td>87 Pasco St</td>\n",
       "      <td>3</td>\n",
       "      <td>h</td>\n",
       "      <td>1285000.0</td>\n",
       "      <td>S</td>\n",
       "      <td>Jas</td>\n",
       "      <td>29/07/2017</td>\n",
       "      <td>6.8</td>\n",
       "      <td>3016.0</td>\n",
       "      <td>2.0</td>\n",
       "      <td>1.0</td>\n",
       "      <td>1.0</td>\n",
       "      <td>2010.0</td>\n",
       "      <td>Whittlesea</td>\n",
       "      <td>-37.68199</td>\n",
       "      <td>145.01744</td>\n",
       "      <td>Western Metropolitan</td>\n",
       "      <td>6380.0</td>\n",
       "    </tr>\n",
       "    <tr>\n",
       "      <th>11643</th>\n",
       "      <td>Yarraville</td>\n",
       "      <td>2 Adeney St</td>\n",
       "      <td>2</td>\n",
       "      <td>h</td>\n",
       "      <td>750000.0</td>\n",
       "      <td>SP</td>\n",
       "      <td>hockingstuart</td>\n",
       "      <td>29/07/2017</td>\n",
       "      <td>6.3</td>\n",
       "      <td>3013.0</td>\n",
       "      <td>3.0</td>\n",
       "      <td>2.0</td>\n",
       "      <td>2.0</td>\n",
       "      <td>1999.0</td>\n",
       "      <td>Darebin</td>\n",
       "      <td>-37.75948</td>\n",
       "      <td>144.99615</td>\n",
       "      <td>Western Metropolitan</td>\n",
       "      <td>6543.0</td>\n",
       "    </tr>\n",
       "    <tr>\n",
       "      <th>11644</th>\n",
       "      <td>Yarraville</td>\n",
       "      <td>54 Pentland Pde</td>\n",
       "      <td>6</td>\n",
       "      <td>h</td>\n",
       "      <td>2450000.0</td>\n",
       "      <td>VB</td>\n",
       "      <td>Village</td>\n",
       "      <td>29/07/2017</td>\n",
       "      <td>6.3</td>\n",
       "      <td>3013.0</td>\n",
       "      <td>3.0</td>\n",
       "      <td>2.0</td>\n",
       "      <td>1.0</td>\n",
       "      <td>2011.0</td>\n",
       "      <td>Hume</td>\n",
       "      <td>-37.70322</td>\n",
       "      <td>144.88236</td>\n",
       "      <td>Western Metropolitan</td>\n",
       "      <td>6543.0</td>\n",
       "    </tr>\n",
       "    <tr>\n",
       "      <th>11645</th>\n",
       "      <td>Yarraville</td>\n",
       "      <td>10/127 Somerville Rd</td>\n",
       "      <td>3</td>\n",
       "      <td>t</td>\n",
       "      <td>645000.0</td>\n",
       "      <td>SP</td>\n",
       "      <td>Jas</td>\n",
       "      <td>29/07/2017</td>\n",
       "      <td>6.3</td>\n",
       "      <td>3013.0</td>\n",
       "      <td>2.0</td>\n",
       "      <td>1.0</td>\n",
       "      <td>1.0</td>\n",
       "      <td>1980.0</td>\n",
       "      <td>Hume</td>\n",
       "      <td>-37.69815</td>\n",
       "      <td>144.88019</td>\n",
       "      <td>Western Metropolitan</td>\n",
       "      <td>6543.0</td>\n",
       "    </tr>\n",
       "  </tbody>\n",
       "</table>\n",
       "</div>"
      ],
      "text/plain": [
       "             suburb               address  rooms type      price method  \\\n",
       "11641    Whittlesea         30 Sherwin St      3    h   601000.0      S   \n",
       "11642  Williamstown           87 Pasco St      3    h  1285000.0      S   \n",
       "11643    Yarraville           2 Adeney St      2    h   750000.0     SP   \n",
       "11644    Yarraville       54 Pentland Pde      6    h  2450000.0     VB   \n",
       "11645    Yarraville  10/127 Somerville Rd      3    t   645000.0     SP   \n",
       "\n",
       "            seller_g        date  distance  postcode  bedroom_2  bathroom  \\\n",
       "11641            Ray  29/07/2017      35.5    3757.0        3.0       2.0   \n",
       "11642            Jas  29/07/2017       6.8    3016.0        2.0       1.0   \n",
       "11643  hockingstuart  29/07/2017       6.3    3013.0        3.0       2.0   \n",
       "11644        Village  29/07/2017       6.3    3013.0        3.0       2.0   \n",
       "11645            Jas  29/07/2017       6.3    3013.0        2.0       1.0   \n",
       "\n",
       "       car  land_size council_area  latitude  longitude           region_name  \\\n",
       "11641  2.0     1970.0   Manningham -37.76311  145.10494     Northern Victoria   \n",
       "11642  1.0     2010.0   Whittlesea -37.68199  145.01744  Western Metropolitan   \n",
       "11643  2.0     1999.0      Darebin -37.75948  144.99615  Western Metropolitan   \n",
       "11644  1.0     2011.0         Hume -37.70322  144.88236  Western Metropolitan   \n",
       "11645  1.0     1980.0         Hume -37.69815  144.88019  Western Metropolitan   \n",
       "\n",
       "       property_count  \n",
       "11641          2170.0  \n",
       "11642          6380.0  \n",
       "11643          6543.0  \n",
       "11644          6543.0  \n",
       "11645          6543.0  "
      ]
     },
     "execution_count": 20,
     "metadata": {},
     "output_type": "execute_result"
    }
   ],
   "source": [
    "df.tail()"
   ]
  },
  {
   "cell_type": "code",
   "execution_count": 21,
   "metadata": {},
   "outputs": [
    {
     "data": {
      "text/plain": [
       "(11646, 19)"
      ]
     },
     "execution_count": 21,
     "metadata": {},
     "output_type": "execute_result"
    }
   ],
   "source": [
    "df.shape"
   ]
  },
  {
   "cell_type": "code",
   "execution_count": 26,
   "metadata": {},
   "outputs": [
    {
     "data": {
      "text/plain": [
       "price\n",
       "(76085.0, 530750.0]       1747\n",
       "(530750.0, 976500.0]      4835\n",
       "(976500.0, 1422250.0]     2664\n",
       "(1422250.0, 1868000.0]    1278\n",
       "(1868000.0, 2313750.0]     570\n",
       "(2313750.0, 2759500.0]     261\n",
       "(2759500.0, 3205250.0]     141\n",
       "(3205250.0, 3651000.0]      67\n",
       "(3651000.0, 4096750.0]      40\n",
       "(4096750.0, 4542500.0]      16\n",
       "(4542500.0, 4988250.0]      10\n",
       "(4988250.0, 5434000.0]       5\n",
       "(5434000.0, 5879750.0]       7\n",
       "(5879750.0, 6325500.0]       1\n",
       "(6325500.0, 6771250.0]       1\n",
       "(6771250.0, 7217000.0]       0\n",
       "(7217000.0, 7662750.0]       1\n",
       "(7662750.0, 8108500.0]       1\n",
       "(8108500.0, 8554250.0]       0\n",
       "(8554250.0, 9000000.0]       1\n",
       "Name: price, dtype: int64"
      ]
     },
     "execution_count": 26,
     "metadata": {},
     "output_type": "execute_result"
    }
   ],
   "source": [
    "df['price'].groupby(pd.cut(df['price'], 20)).count()"
   ]
  },
  {
   "cell_type": "code",
   "execution_count": 25,
   "metadata": {},
   "outputs": [
    {
     "name": "stdout",
     "output_type": "stream",
     "text": [
      "0        (1422250.0, 1868000.0]\n",
      "1         (976500.0, 1422250.0]\n",
      "2        (1422250.0, 1868000.0]\n",
      "3          (530750.0, 976500.0]\n",
      "4        (1422250.0, 1868000.0]\n",
      "                  ...          \n",
      "11641      (530750.0, 976500.0]\n",
      "11642     (976500.0, 1422250.0]\n",
      "11643      (530750.0, 976500.0]\n",
      "11644    (2313750.0, 2759500.0]\n",
      "11645      (530750.0, 976500.0]\n",
      "Name: price, Length: 11646, dtype: category\n",
      "Categories (20, interval[float64]): [(76085.0, 530750.0] < (530750.0, 976500.0] < (976500.0, 1422250.0] < (1422250.0, 1868000.0] ... (7217000.0, 7662750.0] < (7662750.0, 8108500.0] < (8108500.0, 8554250.0] < (8554250.0, 9000000.0]]\n"
     ]
    }
   ],
   "source": [
    "print(pd.cut(df['price'], 20))"
   ]
  },
  {
   "cell_type": "code",
   "execution_count": 27,
   "metadata": {},
   "outputs": [],
   "source": [
    "import seaborn as sns"
   ]
  },
  {
   "cell_type": "code",
   "execution_count": 29,
   "metadata": {},
   "outputs": [
    {
     "data": {
      "text/plain": [
       "<matplotlib.axes._subplots.AxesSubplot at 0x123f3d400>"
      ]
     },
     "execution_count": 29,
     "metadata": {},
     "output_type": "execute_result"
    },
    {
     "data": {
      "image/png": "[encoded data removed]",
      "text/plain": [
       "<Figure size 432x288 with 1 Axes>"
      ]
     },
     "metadata": {
      "needs_background": "light"
     },
     "output_type": "display_data"
    }
   ],
   "source": [
    "sns.distplot(df['price'], bins=100, kde=False)"
   ]
  },
  {
   "cell_type": "code",
   "execution_count": 32,
   "metadata": {},
   "outputs": [
    {
     "data": {
      "text/plain": [
       "<matplotlib.axes._subplots.AxesSubplot at 0x12443efd0>"
      ]
     },
     "execution_count": 32,
     "metadata": {},
     "output_type": "execute_result"
    },
    {
     "data": {
      "image/png": "[encoded data removed]",
      "text/plain": [
       "<Figure size 432x288 with 1 Axes>"
      ]
     },
     "metadata": {
      "needs_background": "light"
     },
     "output_type": "display_data"
    }
   ],
   "source": [
    "sns.distplot(df['price'], bins=10)"
   ]
  },
  {
   "cell_type": "code",
   "execution_count": 55,
   "metadata": {},
   "outputs": [],
   "source": [
    "serie = pd.Series([1, 1, 1, 1, 1, 1, 2, 1, 1, 1, 3, 3, 3, 3, 4, 4, 4, 4, 4, 4])\n",
    "serie_2 = pd.Series([1, 3, 4, 4, 4, 3, 1, 3, 1, 3, 2, 2, 3, 4, 4, 5, 5, 4, 4])\n",
    "serie_3 = pd.Series([1, 7, 7, 7, 8, 8, 8, 8, 6, 6, 6, 5, 5, 4, 7, 7, 5, 4, 4])"
   ]
  },
  {
   "cell_type": "code",
   "execution_count": 56,
   "metadata": {},
   "outputs": [
    {
     "data": {
      "text/plain": [
       "<matplotlib.axes._subplots.AxesSubplot at 0x125480c10>"
      ]
     },
     "execution_count": 56,
     "metadata": {},
     "output_type": "execute_result"
    },
    {
     "data": {
      "image/png": "[encoded data removed]",
      "text/plain": [
       "<Figure size 432x288 with 1 Axes>"
      ]
     },
     "metadata": {
      "needs_background": "light"
     },
     "output_type": "display_data"
    }
   ],
   "source": [
    "sns.distplot(serie, bins=4, norm_hist=True)"
   ]
  },
  {
   "cell_type": "code",
   "execution_count": 57,
   "metadata": {},
   "outputs": [
    {
     "data": {
      "text/plain": [
       "<matplotlib.axes._subplots.AxesSubplot at 0x12542e640>"
      ]
     },
     "execution_count": 57,
     "metadata": {},
     "output_type": "execute_result"
    },
    {
     "data": {
      "image/png": "[encoded data removed]",
      "text/plain": [
       "<Figure size 432x288 with 1 Axes>"
      ]
     },
     "metadata": {
      "needs_background": "light"
     },
     "output_type": "display_data"
    }
   ],
   "source": [
    "sns.distplot(serie, hist = False, kde = True,\n",
    "                 kde_kws = {'shade': True, 'linewidth': 3}, \n",
    "                  label = '')\n",
    "sns.distplot(serie_2, hist = False, kde = True,\n",
    "                 kde_kws = {'shade': True, 'linewidth': 3}, \n",
    "                  label = '')\n",
    "sns.distplot(serie_3, hist = False, kde = True,\n",
    "                 kde_kws = {'shade': True, 'linewidth': 3}, \n",
    "                  label = '')"
   ]
  },
  {
   "cell_type": "code",
   "execution_count": null,
   "metadata": {},
   "outputs": [],
   "source": []
  }
 ],
 "metadata": {
  "kernelspec": {
   "display_name": "Python (data_science)",
   "language": "python",
   "name": "data_science"
  },
  "language_info": {
   "codemirror_mode": {
    "name": "ipython",
    "version": 3
   },
   "file_extension": ".py",
   "mimetype": "text/x-python",
   "name": "python",
   "nbconvert_exporter": "python",
   "pygments_lexer": "ipython3",
   "version": "3.8.1"
  }
 },
 "nbformat": 4,
 "nbformat_minor": 4
}
