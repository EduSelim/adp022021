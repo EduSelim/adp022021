{
 "cells": [
  {
   "cell_type": "markdown",
   "metadata": {},
   "source": [
    "# Reto 2: Tablas de frecuencias\n",
    "\n",
    "## 1. Objetivos:\n",
    "- Aprender a generar tablas de frecuencias segmentando nuestros datos\n",
    " \n",
    "---\n",
    "    \n",
    "## 2. Desarrollo:"
   ]
  },
  {
   "cell_type": "markdown",
   "metadata": {},
   "source": [
    "#### a) Analizando distribución con tablas de frecuencias\n",
    "\n",
    "Vamos a generar tablas de frecuencias de los siguientes datasets y columnas:\n",
    "\n",
    "1. Dataset: 'near_earth_objects-jan_feb_1995-clean.csv'\n",
    "    - Columnas a graficar: 'estimated_diameter.meters.estimated_diameter_max' y 'relative_velocity.kilometers_per_second'\n",
    "2. Dataset: 'new_york_times_bestsellers-clean.json'\n",
    "    - Columnas a graficar: 'price.numberDouble'\n",
    "3. Dataset: 'melbourne_housing-clean.csv'\n",
    "    - Columnas a graficar: 'land_size'\n",
    "    \n",
    "Estos conjuntos de datos son los mismos que graficamos en el Reto anterior. Antes de generar las tablas de frecuencias, revisa el rango de tus conjuntos de datos y decide el número de segmentos adecuado para cada uno.\n",
    "\n",
    "Después, genera las tablas de frecuencias para cada uno de estos conjuntos de datos y compáralos con las gráficas de caja que realizaste en el Reto anterior. ¿Hay información nueva? ¿Qué ventajas o desventajas nos da esta nueva perspectiva?\n",
    "\n",
    "Piensa cuál de las dos aproximaciones (boxplots y tablas de frecuencia) resulta más útil para detectar valores atípicos. ¿O simplemente son útiles en diferentes contextos?"
   ]
  }
 ],
 "metadata": {
  "kernelspec": {
   "display_name": "Python 3",
   "language": "python",
   "name": "python3"
  },
  "language_info": {
   "codemirror_mode": {
    "name": "ipython",
    "version": 3
   },
   "file_extension": ".py",
   "mimetype": "text/x-python",
   "name": "python",
   "nbconvert_exporter": "python",
   "pygments_lexer": "ipython3",
   "version": "3.8.5"
  }
 },
 "nbformat": 4,
 "nbformat_minor": 4
}
