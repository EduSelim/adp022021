{
 "cells": [
  {
   "cell_type": "markdown",
   "metadata": {},
   "source": [
    "## Reto 5: Análisis de Sentimientos con TextBlob\n",
    "\n",
    "### 1. Objetivos:\n",
    "    - Aprender a realizar análisis de sentimientos usando TextBlob\n",
    " \n",
    "---\n",
    "    \n",
    "### 2. Desarrollo:"
   ]
  },
  {
   "cell_type": "markdown",
   "metadata": {},
   "source": [
    "Para finalizar esta sesión, vamos a realizar análisis de sentimientos con la librería `TextBlob`. Utilizando el mismo dataset de los Retos anteriores, realiza los siguientes ejercicios:\n",
    "\n",
    "1. Lee el dataset donde tienes guardadas tus evaluaciones limpias.\n",
    "2. Usando `TextBlob`, agrega una columa de 'polaridad' a tu dataset, que incluya la medida de polaridad obtenida por el módulo `sentiment` de `TextBlob`.\n",
    "3. Genera un histograma de las polaridades encontradas en nuestro conjunto de datos.\n",
    "4. Genera un diagrama de caja de las polaridades encontradas en nuestro conjunto de datos.\n",
    "\n",
    "Hasta ahora hemos realizado un análisis que contiene **todas** las evaluaciones. Esto en realidad no resulta muy útil. Para realizar un análisis que nos dé información más relevante, vamos a utilizar la columna 'score' para segmentar nuestros datos. Realiza los siguientes ejercicios:\n",
    "\n",
    "1. Separa tu dataset en 3: los productos que tengan un 'score' de 1, los que tengan un score de '3' y los que tengan un 'score' de 5 (dejaremos los puntos medios 2 y 4 fuera del análisis).\n",
    "2. Repite los pasos anteriores: agrega una columna de 'polaridad' para cada subconjunto y realiza un histograma y un diagrama de caja para cada subconjunto.\n",
    "3. Observa las diferencias entre ellos. ¿Hay alguna relación entre el 'score' de las evaluaciones y los sentimientos expresados en las reseñas?\n",
    "4. Utilizando `nltk.bigrams` obtén los 20 bigramas más comunes de cada subconjunto y comparalos. ¿Hay alguna diferencia entre las palabras más comunes utilizadas en las reseñas?\n",
    "5. Para finalizar genera nubes de palabras para cada subconjunto. Esto simplemente te ayudará a visualizar el paso anterior con más claridad.\n",
    "6. Comparte tus hallazgos con tus compañeros y la experta."
   ]
  }
 ],
 "metadata": {
  "kernelspec": {
   "display_name": "Python (data_science)",
   "language": "python",
   "name": "data_science"
  },
  "language_info": {
   "codemirror_mode": {
    "name": "ipython",
    "version": 3
   },
   "file_extension": ".py",
   "mimetype": "text/x-python",
   "name": "python",
   "nbconvert_exporter": "python",
   "pygments_lexer": "ipython3",
   "version": "3.7.6"
  }
 },
 "nbformat": 4,
 "nbformat_minor": 4
}
