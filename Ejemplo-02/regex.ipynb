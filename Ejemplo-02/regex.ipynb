{
 "cells": [
  {
   "cell_type": "markdown",
   "metadata": {},
   "source": [
    "## Ejemplo 2: Regex\n",
    "\n",
    "### 1. Objetivos:\n",
    "    - Repasar algunas reglas básicas de las Expresiones Regulares y su aplicación usando pandas\n",
    " \n",
    "---\n",
    "    \n",
    "### 2. Desarrollo:"
   ]
  },
  {
   "cell_type": "markdown",
   "metadata": {},
   "source": [
    "Ya conoces seguramente las Expresiones Regulares. Las expresiones regulares o regex son secuencias de caracteres que definen un patrón de búsqueda. Son una manera de describirle a nuestros programas qué patrones estamos buscando en nuestros datos.\n",
    "\n",
    "Las expresiones regulares resultan sumamente útiles para trabajar con lenguaje natural. Vamos a repasar algunas de las reglas de las regex y a aprender a aplicarlas usando pandas.\n",
    "\n",
    "Para esto utilizaremos el dataset 'new_york_times_bestsellers-clean.json' que contiene datos acerca de libros que han sido seleccionados como bestsellers del New York Times."
   ]
  },
  {
   "cell_type": "code",
   "execution_count": 34,
   "metadata": {},
   "outputs": [],
   "source": [
    "import pandas as pd\n",
    "import re"
   ]
  },
  {
   "cell_type": "code",
   "execution_count": 35,
   "metadata": {},
   "outputs": [
    {
     "data": {
      "text/html": [
       "<div>\n",
       "<style scoped>\n",
       "    .dataframe tbody tr th:only-of-type {\n",
       "        vertical-align: middle;\n",
       "    }\n",
       "\n",
       "    .dataframe tbody tr th {\n",
       "        vertical-align: top;\n",
       "    }\n",
       "\n",
       "    .dataframe thead th {\n",
       "        text-align: right;\n",
       "    }\n",
       "</style>\n",
       "<table border=\"1\" class=\"dataframe\">\n",
       "  <thead>\n",
       "    <tr style=\"text-align: right;\">\n",
       "      <th></th>\n",
       "      <th>amazon_product_url</th>\n",
       "      <th>author</th>\n",
       "      <th>description</th>\n",
       "      <th>publisher</th>\n",
       "      <th>title</th>\n",
       "      <th>oid</th>\n",
       "      <th>bestsellers_date.numberLong</th>\n",
       "      <th>published_date.numberLong</th>\n",
       "      <th>rank.numberInt</th>\n",
       "      <th>rank_last_week.numberInt</th>\n",
       "      <th>weeks_on_list.numberInt</th>\n",
       "      <th>price.numberDouble</th>\n",
       "    </tr>\n",
       "  </thead>\n",
       "  <tbody>\n",
       "    <tr>\n",
       "      <th>0</th>\n",
       "      <td>http://www.amazon.com/The-Host-Novel-Stephenie...</td>\n",
       "      <td>Stephenie Meyer</td>\n",
       "      <td>Aliens have taken control of the minds and bod...</td>\n",
       "      <td>Little, Brown</td>\n",
       "      <td>THE HOST</td>\n",
       "      <td>5b4aa4ead3089013507db18c</td>\n",
       "      <td>1211587200000</td>\n",
       "      <td>1212883200000</td>\n",
       "      <td>2</td>\n",
       "      <td>1</td>\n",
       "      <td>3</td>\n",
       "      <td>25.99</td>\n",
       "    </tr>\n",
       "    <tr>\n",
       "      <th>1</th>\n",
       "      <td>http://www.amazon.com/Love-Youre-With-Emily-Gi...</td>\n",
       "      <td>Emily Giffin</td>\n",
       "      <td>A woman's happy marriage is shaken when she en...</td>\n",
       "      <td>St. Martin's</td>\n",
       "      <td>LOVE THE ONE YOU'RE WITH</td>\n",
       "      <td>5b4aa4ead3089013507db18d</td>\n",
       "      <td>1211587200000</td>\n",
       "      <td>1212883200000</td>\n",
       "      <td>3</td>\n",
       "      <td>2</td>\n",
       "      <td>2</td>\n",
       "      <td>24.95</td>\n",
       "    </tr>\n",
       "    <tr>\n",
       "      <th>2</th>\n",
       "      <td>http://www.amazon.com/The-Front-Garano-Patrici...</td>\n",
       "      <td>Patricia Cornwell</td>\n",
       "      <td>A Massachusetts state investigator and his tea...</td>\n",
       "      <td>Putnam</td>\n",
       "      <td>THE FRONT</td>\n",
       "      <td>5b4aa4ead3089013507db18e</td>\n",
       "      <td>1211587200000</td>\n",
       "      <td>1212883200000</td>\n",
       "      <td>4</td>\n",
       "      <td>0</td>\n",
       "      <td>1</td>\n",
       "      <td>22.95</td>\n",
       "    </tr>\n",
       "    <tr>\n",
       "      <th>3</th>\n",
       "      <td>http://www.amazon.com/Snuff-Chuck-Palahniuk/dp...</td>\n",
       "      <td>Chuck Palahniuk</td>\n",
       "      <td>An aging porn queens aims to cap her career by...</td>\n",
       "      <td>Doubleday</td>\n",
       "      <td>SNUFF</td>\n",
       "      <td>5b4aa4ead3089013507db18f</td>\n",
       "      <td>1211587200000</td>\n",
       "      <td>1212883200000</td>\n",
       "      <td>5</td>\n",
       "      <td>0</td>\n",
       "      <td>1</td>\n",
       "      <td>24.95</td>\n",
       "    </tr>\n",
       "    <tr>\n",
       "      <th>4</th>\n",
       "      <td>http://www.amazon.com/Sundays-at-Tiffanys-Jame...</td>\n",
       "      <td>James Patterson and Gabrielle Charbonnet</td>\n",
       "      <td>A woman finds an unexpected love</td>\n",
       "      <td>Little, Brown</td>\n",
       "      <td>SUNDAYS AT TIFFANY’S</td>\n",
       "      <td>5b4aa4ead3089013507db190</td>\n",
       "      <td>1211587200000</td>\n",
       "      <td>1212883200000</td>\n",
       "      <td>6</td>\n",
       "      <td>3</td>\n",
       "      <td>4</td>\n",
       "      <td>24.99</td>\n",
       "    </tr>\n",
       "  </tbody>\n",
       "</table>\n",
       "</div>"
      ],
      "text/plain": [
       "                                  amazon_product_url  \\\n",
       "0  http://www.amazon.com/The-Host-Novel-Stephenie...   \n",
       "1  http://www.amazon.com/Love-Youre-With-Emily-Gi...   \n",
       "2  http://www.amazon.com/The-Front-Garano-Patrici...   \n",
       "3  http://www.amazon.com/Snuff-Chuck-Palahniuk/dp...   \n",
       "4  http://www.amazon.com/Sundays-at-Tiffanys-Jame...   \n",
       "\n",
       "                                     author  \\\n",
       "0                           Stephenie Meyer   \n",
       "1                              Emily Giffin   \n",
       "2                         Patricia Cornwell   \n",
       "3                           Chuck Palahniuk   \n",
       "4  James Patterson and Gabrielle Charbonnet   \n",
       "\n",
       "                                         description      publisher  \\\n",
       "0  Aliens have taken control of the minds and bod...  Little, Brown   \n",
       "1  A woman's happy marriage is shaken when she en...   St. Martin's   \n",
       "2  A Massachusetts state investigator and his tea...         Putnam   \n",
       "3  An aging porn queens aims to cap her career by...      Doubleday   \n",
       "4                   A woman finds an unexpected love  Little, Brown   \n",
       "\n",
       "                      title                       oid  \\\n",
       "0                  THE HOST  5b4aa4ead3089013507db18c   \n",
       "1  LOVE THE ONE YOU'RE WITH  5b4aa4ead3089013507db18d   \n",
       "2                 THE FRONT  5b4aa4ead3089013507db18e   \n",
       "3                     SNUFF  5b4aa4ead3089013507db18f   \n",
       "4      SUNDAYS AT TIFFANY’S  5b4aa4ead3089013507db190   \n",
       "\n",
       "   bestsellers_date.numberLong  published_date.numberLong  rank.numberInt  \\\n",
       "0                1211587200000              1212883200000               2   \n",
       "1                1211587200000              1212883200000               3   \n",
       "2                1211587200000              1212883200000               4   \n",
       "3                1211587200000              1212883200000               5   \n",
       "4                1211587200000              1212883200000               6   \n",
       "\n",
       "   rank_last_week.numberInt  weeks_on_list.numberInt  price.numberDouble  \n",
       "0                         1                        3               25.99  \n",
       "1                         2                        2               24.95  \n",
       "2                         0                        1               22.95  \n",
       "3                         0                        1               24.95  \n",
       "4                         3                        4               24.99  "
      ]
     },
     "execution_count": 35,
     "metadata": {},
     "output_type": "execute_result"
    }
   ],
   "source": [
    "df = pd.read_json('../../Datasets/new_york_times_bestsellers-clean.json')\n",
    "\n",
    "df.head()"
   ]
  },
  {
   "cell_type": "code",
   "execution_count": 43,
   "metadata": {},
   "outputs": [
    {
     "data": {
      "text/plain": [
       "title\n",
       "10TH ANNIVERSARY            Detective Lindsay Boxer and the Women’s Murder...\n",
       "11TH HOUR                   Detective Lindsay Boxer and the Women’s Murder...\n",
       "1225 CHRISTMAS TREE LANE    Puppies and an ex-husband loom large in the la...\n",
       "1356                        In the fourth book of the Grail Quest series, ...\n",
       "1Q84                        In 1980s Tokyo, a woman who punishes perpetrat...\n",
       "                                                  ...                        \n",
       "Z                           A novel based on the lives of Zelda and F. Sco...\n",
       "ZERO DAY                       A military investigator uncovers a conspiracy.\n",
       "ZERO HISTORY                Several characters from “Spook Country” return...\n",
       "ZONE ONE                      Fighting zombies in post-apocalyptic Manhattan.\n",
       "ZOO                         A young biologist warns world leaders about th...\n",
       "Name: description, Length: 754, dtype: object"
      ]
     },
     "execution_count": 43,
     "metadata": {},
     "output_type": "execute_result"
    }
   ],
   "source": [
    "grouped_by_title = df.groupby('title')['description'].max()\n",
    "\n",
    "grouped_by_title"
   ]
  },
  {
   "cell_type": "markdown",
   "metadata": {},
   "source": [
    "Hay varias entradas para los mismos libros, así que los he agrupado por título. En la columna 'description' tenemos descripciones de los libros en nuestro dataset. Resulta un conjunto de datos interesante, puesto que podemos entender qué tipo de libros son los que se convierten en bestsellers del New York Times."
   ]
  },
  {
   "cell_type": "markdown",
   "metadata": {},
   "source": [
    "### Patrones de Regex\n",
    "\n",
    "Vamos a utilizar este dataset para repasar algunas maneras de definir patrones usando regex."
   ]
  },
  {
   "cell_type": "code",
   "execution_count": 52,
   "metadata": {},
   "outputs": [
    {
     "data": {
      "text/plain": [
       "title\n",
       "1Q84                      In 1980s Tokyo, a woman who punishes perpetrat...\n",
       "A CEDAR COVE CHRISTMAS    A pregnant woman shows up in Cedar Cove on Chr...\n",
       "A CHANGE IN ALTITUDE      A young woman’s life is transformed by a mount...\n",
       "A TURN IN THE ROAD        A middle-age woman takes a cross-country road ...\n",
       "AN OBJECT OF BEAUTY       A young, beautiful and ambitious woman ruthles...\n",
       "                                                ...                        \n",
       "THIS BODY OF DEATH        Detective Thomas Lynley becomes involved when ...\n",
       "THOSE IN PERIL            A private security agent battles pirates who h...\n",
       "WHAT DOESN'T KILL YOU     A Hong Kong woman who works for the C.I.A. sea...\n",
       "WHERE WE BELONG           A woman’s successful life is disrupted by the ...\n",
       "WHILE MY SISTER SLEEPS    A woman makes discoveries about her sister and...\n",
       "Name: description, Length: 74, dtype: object"
      ]
     },
     "execution_count": 52,
     "metadata": {},
     "output_type": "execute_result"
    }
   ],
   "source": [
    "# Buscar una palabra en un texto\n",
    "\n",
    "grouped_by_title[grouped_by_title.str.contains('woman', case=False)]"
   ]
  },
  {
   "cell_type": "code",
   "execution_count": 57,
   "metadata": {},
   "outputs": [
    {
     "data": {
      "text/plain": [
       "title\n",
       "1Q84                          In 1980s Tokyo, a woman who punishes perpetrat...\n",
       "2030                          In 2030, the young resent the elderly for drai...\n",
       "A LESSON IN SECRETS           In the summer of 1932, Maisie Dobbs’s first as...\n",
       "A MEMORY OF LIGHT             The 14th and final novel in the Wheel of Time ...\n",
       "A MERCY                       In 17th-­century America, a slave mother urges...\n",
       "                                                    ...                        \n",
       "WAKING THE WITCH                 Book 11 of the Women of the Otherworld series.\n",
       "WHERE WE BELONG               A woman’s successful life is disrupted by the ...\n",
       "WHERE'D YOU GO, BERNADETTE    A renowned and reclusive Seattle architect dis...\n",
       "WHITE WITCH, BLACK CURSE      A witch who is also a bounty hunter avenges he...\n",
       "WORST CASE                    A New York detective raising 10 children alone...\n",
       "Name: description, Length: 123, dtype: object"
      ]
     },
     "execution_count": 57,
     "metadata": {},
     "output_type": "execute_result"
    }
   ],
   "source": [
    "# Buscar la aparición de números del 0 al 9\n",
    "\n",
    "grouped_by_title[grouped_by_title.str.contains('[0-9]')]"
   ]
  },
  {
   "cell_type": "code",
   "execution_count": 63,
   "metadata": {},
   "outputs": [
    {
     "data": {
      "text/plain": [
       "title\n",
       "1Q84                                        In 1980s Tokyo, a woman who punishes perpetrat...\n",
       "A MEMORY OF LIGHT                           The 14th and final novel in the Wheel of Time ...\n",
       "A MERCY                                     In 17th-­century America, a slave mother urges...\n",
       "A MIGHTY FORTRESS                           Book 4 of the Safehold series, which translate...\n",
       "ANGEL TIME                                  \\nA contract killer goes back to 13th-century ...\n",
       "ANOTHER PIECE OF MY HEART                   A woman in her late 30s marries the man of her...\n",
       "ARCTIC DRIFT                                In his 20th adventure, Dirk Pitt searches for ...\n",
       "BONES ARE FOREVER                           The forensic anthropologist Temperance Brennan...\n",
       "BREAKING POINT                              The 13th novel featuring Joe Pickett, a Wyomin...\n",
       "DAMAGE CONTROL                              An elderly couple’s suicide-by-accident in the...\n",
       "DARK STORM                                  In the 23rd book in the Dark series, the Carpa...\n",
       "DAYS OF GOLD                                In the 18th century, Edilean and a Scottish la...\n",
       "DOWN THE DARKEST ROAD                       The residents of a California town in the mid-...\n",
       "FLIRT                                       Anita Blake, vampire hunter, and the males in ...\n",
       "HARDBALL                                    Searching for an old woman’s missing son, V. I...\n",
       "ISLAND BENEATH THE SEA                      The story of a mulatto slave in late-18th-cent...\n",
       "PIRATE LATITUDES                            In the 17th-century Caribbean, a British pirat...\n",
       "PORT MORTUARY                               In the 18th Kay Scarpetta novel, the forensic ...\n",
       "PRAYERS FOR SALE                            A friendship between two women in a Colorado m...\n",
       "RED MIST                                    The chief medical examiner Kay Scarpetta, dire...\n",
       "RULES OF CIVILITY                           A chance encounter and its consequences provid...\n",
       "SACRÉ BLEU                                  Vincent van Gogh’s friends in the 19th-century...\n",
       "SOUTH OF BROAD                              An unlikely group’s friendship from the ’60s t...\n",
       "STORM PREY                                  Lucas Davenport’s wife is a witness to a botch...\n",
       "STRATEGIC MOVES                             In the 19th Stone Barrington novel, the New Yo...\n",
       "SUMMER RENTAL                               Three friends in their mid-30s spend a month o...\n",
       "TEA TIME FOR THE TRADITIONALLY BUILT        The 10th novel in the No. 1 Ladies’ Detective ...\n",
       "THE BONE BED                                A paleontologist’s disappearance in Canada tur...\n",
       "THE DOUBLE COMFORT SAFARI CLUB              The 11th novel in the No. 1 Ladies’ Detective ...\n",
       "THE HOUSE I LOVED                           A widow defends her house, which is slated to ...\n",
       "THE INTERESTINGS                            Six friends meet in the 1970s at a summer arts...\n",
       "THE LIMPOPO ACADEMY OF PRIVATE DETECTION    The 13th novel in the No. 1 Ladies’ Detective ...\n",
       "THE PIANO TEACHER                           An Englishwoman in 1950s Hong Kong discovers d...\n",
       "THE POSTMISTRESS                            \\n\\nOrdinary life in a Massachusetts small tow...\n",
       "THE PRISONER OF HEAVEN                      In 1950s Barcelona, two friends pursue a  secr...\n",
       "THE ROPE                                    In the 17th Anna Pigeon mystery, Barr returns ...\n",
       "THE SATURDAY BIG TENT WEDDING PARTY         The 12th novel in the No. 1 Ladies’ Detective ...\n",
       "THE SENSE OF AN ENDING                      In this Man Booker Prize-winning novel, an une...\n",
       "THE SHOEMAKER’S WIFE                        Childhood sweethearts in turn-of-the-20th-cent...\n",
       "THE SOUND OF BROKEN GLASS                   Detectives Gemma Jones and her husband, Duncan...\n",
       "THE STORM                                                          The 10th NUMA Files novel.\n",
       "Name: description, dtype: object"
      ]
     },
     "execution_count": 63,
     "metadata": {},
     "output_type": "execute_result"
    }
   ],
   "source": [
    "# Uno o más números seguidos por una o más letras\n",
    "\n",
    "grouped_by_title[grouped_by_title.str.contains('[0-9]+[a-z]+', case=False)]"
   ]
  },
  {
   "cell_type": "code",
   "execution_count": 66,
   "metadata": {},
   "outputs": [
    {
     "data": {
      "text/plain": [
       "title\n",
       "A MEMORY OF LIGHT                           The 14th and final novel in the Wheel of Time ...\n",
       "A MERCY                                     In 17th-­century America, a slave mother urges...\n",
       "A MIGHTY FORTRESS                           Book 4 of the Safehold series, which translate...\n",
       "ANGEL TIME                                  \\nA contract killer goes back to 13th-century ...\n",
       "ARCTIC DRIFT                                In his 20th adventure, Dirk Pitt searches for ...\n",
       "BONES ARE FOREVER                           The forensic anthropologist Temperance Brennan...\n",
       "BREAKING POINT                              The 13th novel featuring Joe Pickett, a Wyomin...\n",
       "DAMAGE CONTROL                              An elderly couple’s suicide-by-accident in the...\n",
       "DAYS OF GOLD                                In the 18th century, Edilean and a Scottish la...\n",
       "FLIRT                                       Anita Blake, vampire hunter, and the males in ...\n",
       "ISLAND BENEATH THE SEA                      The story of a mulatto slave in late-18th-cent...\n",
       "PIRATE LATITUDES                            In the 17th-century Caribbean, a British pirat...\n",
       "PORT MORTUARY                               In the 18th Kay Scarpetta novel, the forensic ...\n",
       "RED MIST                                    The chief medical examiner Kay Scarpetta, dire...\n",
       "SACRÉ BLEU                                  Vincent van Gogh’s friends in the 19th-century...\n",
       "STORM PREY                                  Lucas Davenport’s wife is a witness to a botch...\n",
       "STRATEGIC MOVES                             In the 19th Stone Barrington novel, the New Yo...\n",
       "TEA TIME FOR THE TRADITIONALLY BUILT        The 10th novel in the No. 1 Ladies’ Detective ...\n",
       "THE BONE BED                                A paleontologist’s disappearance in Canada tur...\n",
       "THE DOUBLE COMFORT SAFARI CLUB              The 11th novel in the No. 1 Ladies’ Detective ...\n",
       "THE LIMPOPO ACADEMY OF PRIVATE DETECTION    The 13th novel in the No. 1 Ladies’ Detective ...\n",
       "THE ROPE                                    In the 17th Anna Pigeon mystery, Barr returns ...\n",
       "THE SATURDAY BIG TENT WEDDING PARTY         The 12th novel in the No. 1 Ladies’ Detective ...\n",
       "THE SHOEMAKER’S WIFE                        Childhood sweethearts in turn-of-the-20th-cent...\n",
       "THE SOUND OF BROKEN GLASS                   Detectives Gemma Jones and her husband, Duncan...\n",
       "THE STORM                                                          The 10th NUMA Files novel.\n",
       "Name: description, dtype: object"
      ]
     },
     "execution_count": 66,
     "metadata": {},
     "output_type": "execute_result"
    }
   ],
   "source": [
    "# Uno o más números seguidos por las letras 'th'\n",
    "\n",
    "grouped_by_title[grouped_by_title.str.contains('[0-9]th', case=False)]"
   ]
  },
  {
   "cell_type": "code",
   "execution_count": 70,
   "metadata": {},
   "outputs": [
    {
     "data": {
      "text/plain": [
       "title\n",
       "DON’T BLINK                        After a gruesome murder in a New York steak ho...\n",
       "FATAL ERROR                        After the murder of a cyber-sociopath, Ali Rey...\n",
       "FOUNDERS                           After society collapses, America’s fate is in ...\n",
       "RAPTURE                            After a man stumbles in front of the reporter ...\n",
       "STANDING IN ANOTHER MAN'S GRAVE    After retiring from the Edinburgh police force...\n",
       "THE DOG STARS                      After a flu pandemic kills most of the populat...\n",
       "THE MAGICIANS                      After sorcery college, a young man lives the h...\n",
       "WINTER GARDEN                      After their father’s death, two sisters must c...\n",
       "Name: description, dtype: object"
      ]
     },
     "execution_count": 70,
     "metadata": {},
     "output_type": "execute_result"
    }
   ],
   "source": [
    "# Textos que comiencen con la palabra 'After'\n",
    "\n",
    "grouped_by_title[grouped_by_title.str.contains('^After', case=False)]"
   ]
  },
  {
   "cell_type": "code",
   "execution_count": 102,
   "metadata": {},
   "outputs": [
    {
     "data": {
      "text/plain": [
       "title\n",
       "A DEVIL IS WAITING        Sean Dillon helps to foil a plot to assassinat...\n",
       "A WALLFLOWER CHRISTMAS                     Matchmaking in Victorian London.\n",
       "HER FEARFUL SYMMETRY      A woman haunts the flat she’s left to her twin...\n",
       "Name: description, dtype: object"
      ]
     },
     "execution_count": 102,
     "metadata": {},
     "output_type": "execute_result"
    }
   ],
   "source": [
    "# Textos que terminen con la palabra 'London' y un punto (.)\n",
    "\n",
    "grouped_by_title[grouped_by_title.str.contains('London.$', case=False)]"
   ]
  },
  {
   "cell_type": "code",
   "execution_count": 107,
   "metadata": {},
   "outputs": [
    {
     "data": {
      "text/plain": [
       "title\n",
       "A DOG’S JOURNEY    In a sequel to “A Dog’s Purpose,” Buddy the do...\n",
       "DARK SUMMER        A veterinarian cares for an injured dog with a...\n",
       "Name: description, dtype: object"
      ]
     },
     "execution_count": 107,
     "metadata": {},
     "output_type": "execute_result"
    }
   ],
   "source": [
    "# Textos que contengan la palabra 'cat' o 'dog'\n",
    "\n",
    "grouped_by_title[grouped_by_title.str.contains('\\scat\\s|\\sdog\\s', case=False)]"
   ]
  },
  {
   "cell_type": "code",
   "execution_count": 117,
   "metadata": {},
   "outputs": [
    {
     "data": {
      "text/plain": [
       "title\n",
       "10TH ANNIVERSARY            Detective Lindsay Boxer and the Women’s Murder...\n",
       "11TH HOUR                   Detective Lindsay Boxer and the Women’s Murder...\n",
       "1225 CHRISTMAS TREE LANE    Puppies and an ex-husband loom large in the la...\n",
       "1Q84                        In 1980s Tokyo, a woman who punishes perpetrat...\n",
       "A CEDAR COVE CHRISTMAS      A pregnant woman shows up in Cedar Cove on Chr...\n",
       "                                                  ...                        \n",
       "WHERE WE BELONG             A woman’s successful life is disrupted by the ...\n",
       "WHILE MY SISTER SLEEPS      A woman makes discoveries about her sister and...\n",
       "WICKED APPETITE             A dangerous man needs Elizabeth Tucker’s help ...\n",
       "ZERO HISTORY                Several characters from “Spook Country” return...\n",
       "ZONE ONE                      Fighting zombies in post-apocalyptic Manhattan.\n",
       "Name: description, Length: 197, dtype: object"
      ]
     },
     "execution_count": 117,
     "metadata": {},
     "output_type": "execute_result"
    }
   ],
   "source": [
    "# Textos que contengan las palabras 'man' y/o 'woman' en singular y plural\n",
    "\n",
    "grouped_by_title[grouped_by_title.str.contains('wom[ae]n|m[ae]n', case=False)]"
   ]
  },
  {
   "cell_type": "code",
   "execution_count": 126,
   "metadata": {},
   "outputs": [
    {
     "data": {
      "text/plain": [
       "title\n",
       "10TH ANNIVERSARY            Detective Lindsay Boxer and the Womens Murder ...\n",
       "11TH HOUR                   Detective Lindsay Boxer and the Womens Murder ...\n",
       "1225 CHRISTMAS TREE LANE    Puppies and an exhusband loom large in the las...\n",
       "1356                        In the fourth book of the Grail Quest series t...\n",
       "1Q84                        In 1980s Tokyo a woman who punishes perpetrato...\n",
       "                                                  ...                        \n",
       "Z                           A novel based on the lives of Zelda and F Scot...\n",
       "ZERO DAY                        A military investigator uncovers a conspiracy\n",
       "ZERO HISTORY                Several characters from Spook Country return t...\n",
       "ZONE ONE                        Fighting zombies in postapocalyptic Manhattan\n",
       "ZOO                         A young biologist warns world leaders about th...\n",
       "Name: description, Length: 754, dtype: object"
      ]
     },
     "execution_count": 126,
     "metadata": {},
     "output_type": "execute_result"
    }
   ],
   "source": [
    "# Podemos también reemplazar todos los caracteres que no sean ni alfanuméricos ni espacios o tabs por espacios vacíos\n",
    "# Esto nos va a ser muy útil más adelante\n",
    "\n",
    "grouped_by_title.str.replace('[^\\w\\s]', '')"
   ]
  },
  {
   "cell_type": "code",
   "execution_count": 127,
   "metadata": {},
   "outputs": [
    {
     "data": {
      "text/plain": [
       "title\n",
       "10TH ANNIVERSARY            Detective Lindsay Boxer and the Women’s Murder...\n",
       "11TH HOUR                   Detective Lindsay Boxer and the Women’s Murder...\n",
       "1225 CHRISTMAS TREE LANE    Puppies and an ex-husband loom large in the la...\n",
       "1356                        In the fourth book of the Grail Quest series, ...\n",
       "1Q84                        In s Tokyo, a woman who punishes perpetrators ...\n",
       "                                                  ...                        \n",
       "Z                           A novel based on the lives of Zelda and F. Sco...\n",
       "ZERO DAY                       A military investigator uncovers a conspiracy.\n",
       "ZERO HISTORY                Several characters from “Spook Country” return...\n",
       "ZONE ONE                      Fighting zombies in post-apocalyptic Manhattan.\n",
       "ZOO                         A young biologist warns world leaders about th...\n",
       "Name: description, Length: 754, dtype: object"
      ]
     },
     "execution_count": 127,
     "metadata": {},
     "output_type": "execute_result"
    }
   ],
   "source": [
    "# Podemos también reemplazar todos los caracteres numéricos por espacios vacíos\n",
    "\n",
    "grouped_by_title.str.replace('\\d','')"
   ]
  },
  {
   "cell_type": "code",
   "execution_count": null,
   "metadata": {},
   "outputs": [],
   "source": []
  }
 ],
 "metadata": {
  "kernelspec": {
   "display_name": "Python (data_science)",
   "language": "python",
   "name": "data_science"
  },
  "language_info": {
   "codemirror_mode": {
    "name": "ipython",
    "version": 3
   },
   "file_extension": ".py",
   "mimetype": "text/x-python",
   "name": "python",
   "nbconvert_exporter": "python",
   "pygments_lexer": "ipython3",
   "version": "3.7.6"
  }
 },
 "nbformat": 4,
 "nbformat_minor": 4
}
