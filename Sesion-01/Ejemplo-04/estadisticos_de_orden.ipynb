{
 "cells": [
  {
   "cell_type": "markdown",
   "metadata": {},
   "source": [
    "## Ejemplo 4: Estadísticos de Orden\n",
    "\n",
    "### 1. Objetivos:\n",
    "    - Aprender a calcular el rango y los percentiles usando pandas\n",
    " \n",
    "---\n",
    "    \n",
    "### 2. Desarrollo:"
   ]
  },
  {
   "cell_type": "markdown",
   "metadata": {},
   "source": [
    "#### Rango\n",
    "\n",
    "El rango es simplemente la diferencia entre el valor máximo de un conjunto y el valor mínimo de un conjunto. Por lo tanto, podemos obtenerla de esta manera:"
   ]
  },
  {
   "cell_type": "code",
   "execution_count": 2,
   "metadata": {},
   "outputs": [],
   "source": [
    "import pandas as pd"
   ]
  },
  {
   "cell_type": "code",
   "execution_count": 3,
   "metadata": {},
   "outputs": [],
   "source": [
    "df = pd.read_csv('../../Datasets/melbourne_housing-clean.csv')"
   ]
  },
  {
   "cell_type": "code",
   "execution_count": 4,
   "metadata": {},
   "outputs": [
    {
     "data": {
      "text/html": [
       "<div>\n",
       "<style scoped>\n",
       "    .dataframe tbody tr th:only-of-type {\n",
       "        vertical-align: middle;\n",
       "    }\n",
       "\n",
       "    .dataframe tbody tr th {\n",
       "        vertical-align: top;\n",
       "    }\n",
       "\n",
       "    .dataframe thead th {\n",
       "        text-align: right;\n",
       "    }\n",
       "</style>\n",
       "<table border=\"1\" class=\"dataframe\">\n",
       "  <thead>\n",
       "    <tr style=\"text-align: right;\">\n",
       "      <th></th>\n",
       "      <th>Unnamed: 0</th>\n",
       "      <th>suburb</th>\n",
       "      <th>address</th>\n",
       "      <th>rooms</th>\n",
       "      <th>type</th>\n",
       "      <th>price</th>\n",
       "      <th>method</th>\n",
       "      <th>seller_g</th>\n",
       "      <th>date</th>\n",
       "      <th>distance</th>\n",
       "      <th>postcode</th>\n",
       "      <th>bedroom_2</th>\n",
       "      <th>bathroom</th>\n",
       "      <th>car</th>\n",
       "      <th>land_size</th>\n",
       "      <th>council_area</th>\n",
       "      <th>latitude</th>\n",
       "      <th>longitude</th>\n",
       "      <th>region_name</th>\n",
       "      <th>property_count</th>\n",
       "    </tr>\n",
       "  </thead>\n",
       "  <tbody>\n",
       "    <tr>\n",
       "      <th>0</th>\n",
       "      <td>0</td>\n",
       "      <td>Abbotsford</td>\n",
       "      <td>85 Turner St</td>\n",
       "      <td>2</td>\n",
       "      <td>h</td>\n",
       "      <td>1480000.0</td>\n",
       "      <td>S</td>\n",
       "      <td>Biggin</td>\n",
       "      <td>3/12/2016</td>\n",
       "      <td>2.5</td>\n",
       "      <td>3067.0</td>\n",
       "      <td>2.0</td>\n",
       "      <td>1.0</td>\n",
       "      <td>1.0</td>\n",
       "      <td>202.0</td>\n",
       "      <td>Yarra</td>\n",
       "      <td>-37.7996</td>\n",
       "      <td>144.9984</td>\n",
       "      <td>Northern Metropolitan</td>\n",
       "      <td>4019.0</td>\n",
       "    </tr>\n",
       "    <tr>\n",
       "      <th>1</th>\n",
       "      <td>1</td>\n",
       "      <td>Abbotsford</td>\n",
       "      <td>25 Bloomburg St</td>\n",
       "      <td>2</td>\n",
       "      <td>h</td>\n",
       "      <td>1035000.0</td>\n",
       "      <td>S</td>\n",
       "      <td>Biggin</td>\n",
       "      <td>4/02/2016</td>\n",
       "      <td>2.5</td>\n",
       "      <td>3067.0</td>\n",
       "      <td>2.0</td>\n",
       "      <td>1.0</td>\n",
       "      <td>0.0</td>\n",
       "      <td>156.0</td>\n",
       "      <td>Yarra</td>\n",
       "      <td>-37.8079</td>\n",
       "      <td>144.9934</td>\n",
       "      <td>Northern Metropolitan</td>\n",
       "      <td>4019.0</td>\n",
       "    </tr>\n",
       "    <tr>\n",
       "      <th>2</th>\n",
       "      <td>2</td>\n",
       "      <td>Abbotsford</td>\n",
       "      <td>5 Charles St</td>\n",
       "      <td>3</td>\n",
       "      <td>h</td>\n",
       "      <td>1465000.0</td>\n",
       "      <td>SP</td>\n",
       "      <td>Biggin</td>\n",
       "      <td>4/03/2017</td>\n",
       "      <td>2.5</td>\n",
       "      <td>3067.0</td>\n",
       "      <td>3.0</td>\n",
       "      <td>2.0</td>\n",
       "      <td>0.0</td>\n",
       "      <td>134.0</td>\n",
       "      <td>Yarra</td>\n",
       "      <td>-37.8093</td>\n",
       "      <td>144.9944</td>\n",
       "      <td>Northern Metropolitan</td>\n",
       "      <td>4019.0</td>\n",
       "    </tr>\n",
       "    <tr>\n",
       "      <th>3</th>\n",
       "      <td>3</td>\n",
       "      <td>Abbotsford</td>\n",
       "      <td>40 Federation La</td>\n",
       "      <td>3</td>\n",
       "      <td>h</td>\n",
       "      <td>850000.0</td>\n",
       "      <td>PI</td>\n",
       "      <td>Biggin</td>\n",
       "      <td>4/03/2017</td>\n",
       "      <td>2.5</td>\n",
       "      <td>3067.0</td>\n",
       "      <td>3.0</td>\n",
       "      <td>2.0</td>\n",
       "      <td>1.0</td>\n",
       "      <td>94.0</td>\n",
       "      <td>Yarra</td>\n",
       "      <td>-37.7969</td>\n",
       "      <td>144.9969</td>\n",
       "      <td>Northern Metropolitan</td>\n",
       "      <td>4019.0</td>\n",
       "    </tr>\n",
       "    <tr>\n",
       "      <th>4</th>\n",
       "      <td>4</td>\n",
       "      <td>Abbotsford</td>\n",
       "      <td>55a Park St</td>\n",
       "      <td>4</td>\n",
       "      <td>h</td>\n",
       "      <td>1600000.0</td>\n",
       "      <td>VB</td>\n",
       "      <td>Nelson</td>\n",
       "      <td>4/06/2016</td>\n",
       "      <td>2.5</td>\n",
       "      <td>3067.0</td>\n",
       "      <td>3.0</td>\n",
       "      <td>1.0</td>\n",
       "      <td>2.0</td>\n",
       "      <td>120.0</td>\n",
       "      <td>Yarra</td>\n",
       "      <td>-37.8072</td>\n",
       "      <td>144.9941</td>\n",
       "      <td>Northern Metropolitan</td>\n",
       "      <td>4019.0</td>\n",
       "    </tr>\n",
       "  </tbody>\n",
       "</table>\n",
       "</div>"
      ],
      "text/plain": [
       "   Unnamed: 0      suburb           address  rooms type      price method  \\\n",
       "0           0  Abbotsford      85 Turner St      2    h  1480000.0      S   \n",
       "1           1  Abbotsford   25 Bloomburg St      2    h  1035000.0      S   \n",
       "2           2  Abbotsford      5 Charles St      3    h  1465000.0     SP   \n",
       "3           3  Abbotsford  40 Federation La      3    h   850000.0     PI   \n",
       "4           4  Abbotsford       55a Park St      4    h  1600000.0     VB   \n",
       "\n",
       "  seller_g       date  distance  postcode  bedroom_2  bathroom  car  \\\n",
       "0   Biggin  3/12/2016       2.5    3067.0        2.0       1.0  1.0   \n",
       "1   Biggin  4/02/2016       2.5    3067.0        2.0       1.0  0.0   \n",
       "2   Biggin  4/03/2017       2.5    3067.0        3.0       2.0  0.0   \n",
       "3   Biggin  4/03/2017       2.5    3067.0        3.0       2.0  1.0   \n",
       "4   Nelson  4/06/2016       2.5    3067.0        3.0       1.0  2.0   \n",
       "\n",
       "   land_size council_area  latitude  longitude            region_name  \\\n",
       "0      202.0        Yarra  -37.7996   144.9984  Northern Metropolitan   \n",
       "1      156.0        Yarra  -37.8079   144.9934  Northern Metropolitan   \n",
       "2      134.0        Yarra  -37.8093   144.9944  Northern Metropolitan   \n",
       "3       94.0        Yarra  -37.7969   144.9969  Northern Metropolitan   \n",
       "4      120.0        Yarra  -37.8072   144.9941  Northern Metropolitan   \n",
       "\n",
       "   property_count  \n",
       "0          4019.0  \n",
       "1          4019.0  \n",
       "2          4019.0  \n",
       "3          4019.0  \n",
       "4          4019.0  "
      ]
     },
     "execution_count": 4,
     "metadata": {},
     "output_type": "execute_result"
    }
   ],
   "source": [
    "df.head()"
   ]
  },
  {
   "cell_type": "code",
   "execution_count": 5,
   "metadata": {},
   "outputs": [
    {
     "data": {
      "text/plain": [
       "8915000.0"
      ]
     },
     "execution_count": 5,
     "metadata": {},
     "output_type": "execute_result"
    }
   ],
   "source": [
    "df['price'].max() - df['price'].min()"
   ]
  },
  {
   "cell_type": "markdown",
   "metadata": {},
   "source": [
    "#### Percentiles\n",
    "\n",
    "El percentil `P` es un valor que indica que por lo menos `P%` de los valores en el conjunto tienen este valor o un valor menor; mientras que `(100-P)%` de los valores tienen este valor o un valor mayor. Por ejemplo, para obtener el percentil 80 primero ordenamos nuestro conjunto de manera ascendente y después elegimos un valor de manera que el 80% de los valores en nuestro conjunto sean iguales o menores a ese valor.\n",
    "\n",
    "Más información: https://curiosoando.com/que-son-los-percentiles\n",
    "\n",
    "En `pandas`, los percentiles están implementados como cuantiles, que es lo mismo que los percentiles pero en versión fracciones. Es decir, el percentil 80 es lo  mismo que el cuantil 0.8."
   ]
  },
  {
   "cell_type": "code",
   "execution_count": 6,
   "metadata": {},
   "outputs": [
    {
     "data": {
      "text/plain": [
       "1440000.0"
      ]
     },
     "execution_count": 6,
     "metadata": {},
     "output_type": "execute_result"
    }
   ],
   "source": [
    "df['price'].quantile(0.8)"
   ]
  },
  {
   "cell_type": "markdown",
   "metadata": {},
   "source": [
    "En este caso, el 80% de los valores en nuestro conjunto de datos tienen un valor menor o igual a 1 440 000.\n",
    "\n",
    "Como podrás ya haber imaginado, el valor mínimo equivale al percentil 0 y el valor máximo equivale al percentil 100, mientras que la mediana es exactamente igual que el percentil 50.\n",
    "\n",
    "Sacando los percentiles podemos darnos una idea más o menos precisa de cómo están distribuidos nuestros datos.\n",
    "\n",
    "Por ejemplo:"
   ]
  },
  {
   "cell_type": "code",
   "execution_count": 12,
   "metadata": {},
   "outputs": [
    {
     "name": "stdout",
     "output_type": "stream",
     "text": [
      "Valor mínimo: 85000.0\n",
      "Percentil 0: 85000.0\n",
      "Percentil 10: 470000.0\n",
      "Percentil 25: 640000.0\n",
      "Percentil 50: 895500.0\n",
      "Percentil 75: 1325000.0\n",
      "Percentil 90: 1850000.0\n",
      "Percentil 100: 9000000.0\n",
      "Valor máximo: 9000000.0\n",
      "\n",
      "Mediana: 1068141.895071269\n"
     ]
    }
   ],
   "source": [
    "print(f'Valor mínimo: {df[\"price\"].min()}')\n",
    "print(f'Percentil 0: {df[\"price\"].quantile(0)}')\n",
    "print(f'Percentil 10: {df[\"price\"].quantile(0.1)}')\n",
    "print(f'Percentil 25: {df[\"price\"].quantile(0.25)}')\n",
    "print(f'Percentil 50: {df[\"price\"].median()}')\n",
    "print(f'Percentil 75: {df[\"price\"].quantile(0.75)}')\n",
    "print(f'Percentil 90: {df[\"price\"].quantile(0.9)}')\n",
    "print(f'Percentil 100: {df[\"price\"].quantile(1)}')\n",
    "print(f'Valor máximo: {df[\"price\"].max()}')\n",
    "print()\n",
    "print(f'Mediana: {df[\"price\"].mean()}')"
   ]
  },
  {
   "cell_type": "markdown",
   "metadata": {},
   "source": [
    "Viendo estos números podemos inferir varias cosas:\n",
    "\n",
    "- Casi todos nuestros datos están concentrados en valores menores a 2 000 000.\n",
    "- Eso quiere decir que tenemos algunos valores atípicos *demasiado* grandes (si los comparamos con el resto de los valores)\n",
    "- La mediana nos estaba dando un número más cercano al verdadero \"valor típico\" que el promedio.\n",
    "- El promedio tenía un sesgo hacia arriba debido a los valores extremadamente grandes.\n",
    "- El rango entre el valor máximo y mínimo no nos da una medida representativa de qué valores pueden tomar nuestros datos.\n",
    "\n",
    "#### Rango intercuartílico\n",
    "\n",
    "Otra medida muy común es lo que llamamos el rango intercuartílico, que es la diferencia entre el percentil 75 y el percentil 25. Este número nos da una idea del rango que tienen los valores más cercanos al valor típico.\n",
    "\n",
    "En nuestro ejemplo, nuestro rango intercuartílico sería:"
   ]
  },
  {
   "cell_type": "code",
   "execution_count": 11,
   "metadata": {},
   "outputs": [
    {
     "data": {
      "text/plain": [
       "685000.0"
      ]
     },
     "execution_count": 11,
     "metadata": {},
     "output_type": "execute_result"
    }
   ],
   "source": [
    "df[\"price\"].quantile(0.75) - df[\"price\"].quantile(0.25)"
   ]
  },
  {
   "cell_type": "markdown",
   "metadata": {},
   "source": [
    "Podemos observar que el rango de los \"valores típicos\" es muchísimo menor al rango total de nuestros datos.\n",
    "\n",
    "¡En la próxima sesión vamos a aprender a visualizar estas estadísticas para que las relaciones entre ellas queden mucho más claras!"
   ]
  },
  {
   "cell_type": "code",
   "execution_count": null,
   "metadata": {},
   "outputs": [],
   "source": []
  }
 ],
 "metadata": {
  "kernelspec": {
   "display_name": "Python 3",
   "language": "python",
   "name": "python3"
  },
  "language_info": {
   "codemirror_mode": {
    "name": "ipython",
    "version": 3
   },
   "file_extension": ".py",
   "mimetype": "text/x-python",
   "name": "python",
   "nbconvert_exporter": "python",
   "pygments_lexer": "ipython3",
   "version": "3.8.5"
  }
 },
 "nbformat": 4,
 "nbformat_minor": 4
}
