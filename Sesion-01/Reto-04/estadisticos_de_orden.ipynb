{
 "cells": [
  {
   "cell_type": "markdown",
   "metadata": {},
   "source": [
    "## Reto 4: Estadísticos de orden\n",
    "\n",
    "### 1. Objetivos:\n",
    "    - \n",
    " \n",
    "---\n",
    "    \n",
    "### 2. Desarrollo:"
   ]
  },
  {
   "cell_type": "markdown",
   "metadata": {},
   "source": [
    "#### a) Percentiles para evaluar la dispersión de nuestros datos\n",
    "\n",
    "Tienes debajo 4 series. Cada una de esas series contiene un conjunto de datos conformado por números enteros en el intervalo de 1 a 10. Los datos en cada una de estas series tienen un tipo de dispersión distinta. Los valores típicos cambian así como los valores atípicos. Las medianas también son diferentes.\n",
    "\n",
    "Usando percentiles, obtén información acerca de cuál es el valor donde están concentrados nuestros datos y cómo está configurada su dispersión. Entre más percentiles utilices, obtienes una descripción más detallada, pero como el dataset es muy pequeño, no necesitas tanta granularidad.\n",
    "\n",
    "Obtén los percentiles y comenta con la experta y tus compañeros qué cosas podemos inferir acerca de nuestros datos utilizando estos valores."
   ]
  },
  {
   "cell_type": "code",
   "execution_count": 1,
   "metadata": {},
   "outputs": [],
   "source": [
    "import pandas as pd"
   ]
  },
  {
   "cell_type": "code",
   "execution_count": 2,
   "metadata": {},
   "outputs": [],
   "source": [
    "from helpers import serie_1, serie_2, serie_3, serie_4"
   ]
  },
  {
   "cell_type": "markdown",
   "metadata": {},
   "source": [
    "#### b) Percentiles para evaluar nuestro dataset de meteoritos\n",
    "\n",
    "Ahora vamos a aplicar los percentiles a nuestro dataset de objetos que han orbitado cerca de la Tierra. Queremos entender cómo están organizados nuestros datos.\n",
    "\n",
    "En el Reto pasado, usamos la desviación estándar para obtener la \"desviación esperada\" de nuestros datos. Aprendimos que la mayoría de nuestros datos están a una distancia de 1 desviación estándar o menos del promedio. Entre más desviaciones estándares añadíamos, menos datos quedaban fuera de nuestros subconjuntos. Lo que no sabemos es dónde están concentrados nuestros datos.\n",
    "\n",
    "Piensa en lo siguiente:\n",
    "\n",
    "Si tenemos un dataset con rango de 1 a 10, y nuestra desviación estándar es 2.5, los datos pueden estar organizados de maneras muy distintas:\n",
    "\n",
    "- Podría ser que el promedio es 3 y que la mayoría de los datos están en el rango de 0.5 a 5.5. En este caso podría haber datos muy distintos al resto en el parte superior del rango total (los valores entre 5.5 y 10).\n",
    "- Podría ser que el promedio es 7 y que la mayoría de los datos están en el rango de 4.5 a 9.5. En este caso los datos atípicos estarían concentrados en la parte inferior del rango total.\n",
    "- Podría ser que el promedio es 5 y que la mayoría de los datos están concentrados en el rango de 2.5 a 7.5. En este caso, lo más normal es que los datos estén alrededor del valor que está justo a la mitad del rango total y es cada vez más raro encontrar datos muy pequeños o muy grandes.\n",
    "\n",
    "Hay muchas otras posibilidades, pero lo importante es darse cuenta de que saber solamente la desviación estándar nos da aún una descripción muy ambigua de nuestros datos. Saber el promedio ya es un primer indicador de lo que está pasando en realidad. Pero saber además los percentiles nos puede dar una idea muchísimo más clara de cómo están acomodados nuestros datos.\n",
    "\n",
    "Lee el dataset 'near_earth_objects-jan_feb_1995-clean.csv' y obtén percentiles de la columna 'estimated_diameter.meters.estimated_diameter_max'. Comenta con tus compañeros y con la experta tus hallazgos y tus hipótesis acerca de qué podemos aprender sobre la organización de nuestros datos usando los percentiles."
   ]
  },
  {
   "cell_type": "code",
   "execution_count": null,
   "metadata": {},
   "outputs": [],
   "source": []
  }
 ],
 "metadata": {
  "kernelspec": {
   "display_name": "Python (data_science)",
   "language": "python",
   "name": "data_science"
  },
  "language_info": {
   "codemirror_mode": {
    "name": "ipython",
    "version": 3
   },
   "file_extension": ".py",
   "mimetype": "text/x-python",
   "name": "python",
   "nbconvert_exporter": "python",
   "pygments_lexer": "ipython3",
   "version": "3.7.6"
  }
 },
 "nbformat": 4,
 "nbformat_minor": 4
}
