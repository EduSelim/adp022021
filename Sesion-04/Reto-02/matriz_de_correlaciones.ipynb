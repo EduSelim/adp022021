{
 "cells": [
  {
   "cell_type": "markdown",
   "metadata": {},
   "source": [
    "# Reto 2: Matriz de correlaciones\n",
    "\n",
    "## 1. Objetivos:\n",
    "- Aprender a generar e interpretar una matriz de correlaciones\n",
    "    \n",
    "## 2. Desarrollo:"
   ]
  },
  {
   "cell_type": "markdown",
   "metadata": {},
   "source": [
    "Para este Reto vamos a utilizar un conjunto de datos llamado 'wine_quality_red-clean.csv'. Este dataset tiene datos acerca de diversos tipos de vino rojo. Incluye datos acerca de la composición química de los vinos y una variable 'quality' que es una evaluación de la calidad del vino que va del 1 al 10.\n",
    "\n",
    "Aquí esta [el link](https://archive.ics.uci.edu/ml/datasets/wine+quality) de donde proviene este dataset."
   ]
  },
  {
   "cell_type": "code",
   "execution_count": 1,
   "metadata": {
    "scrolled": true
   },
   "outputs": [],
   "source": [
    "# Lee aquí tu dataset\n",
    "#\n",
    "# Es recomendable realizar una pequeña exploración antes de pasar a la siguiente sección"
   ]
  },
  {
   "cell_type": "markdown",
   "metadata": {},
   "source": [
    "Vamos a explorar las relaciones que existen entre estas variables. Para esto, genera un heatmap para visualizar el coeficiente de correlación de Pearson entre todas las variables del dataset. Añade un título y utiliza [la documentación](https://seaborn.pydata.org/generated/seaborn.heatmap.html) para modificar la gráfica a tu gusto y hacerla más atractiva y comprensible. Puedes modificar el grosor de las líneas entre los cuadros, el color de los cuadros, el rango total del espectro de colores, etc. Después de tener lista tu visualización, responde las siguientes preguntas y coméntalas con tus compañeros y la experta:\n",
    "\n",
    "1. ¿Qué variables no tienen una correlación lineal entre ellas?\n",
    "2. ¿Qué variables tienen correlaciones positivas?\n",
    "3. ¿Qué par de variables tiene la mayor correlación positiva?\n",
    "4. ¿Qué variables tienen correlaciones negativas?\n",
    "5. ¿Qué par de variables tiene la mayor correlación negativa?\n",
    "6. ¿Tienes algunas hipótesis acerca de por qué existen estas correlaciones (o porque no existen)?"
   ]
  },
  {
   "cell_type": "code",
   "execution_count": null,
   "metadata": {},
   "outputs": [],
   "source": [
    "# Realiza aquí tu visualización"
   ]
  }
 ],
 "metadata": {
  "kernelspec": {
   "display_name": "Python 3",
   "language": "python",
   "name": "python3"
  },
  "language_info": {
   "codemirror_mode": {
    "name": "ipython",
    "version": 3
   },
   "file_extension": ".py",
   "mimetype": "text/x-python",
   "name": "python",
   "nbconvert_exporter": "python",
   "pygments_lexer": "ipython3",
   "version": "3.8.5"
  }
 },
 "nbformat": 4,
 "nbformat_minor": 4
}
