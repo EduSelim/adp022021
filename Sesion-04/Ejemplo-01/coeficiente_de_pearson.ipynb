{
 "cells": [
  {
   "cell_type": "markdown",
   "metadata": {},
   "source": [
    "# Ejemplo 1: Coeficiente de correlación de Pearson\n",
    "\n",
    "## 1. Objetivos:\n",
    "- Aprender a interpretar el coeficiente de correlación de Pearson\n",
    "    \n",
    "## 2. Desarrollo:"
   ]
  },
  {
   "cell_type": "code",
   "execution_count": 29,
   "metadata": {},
   "outputs": [],
   "source": [
    "import seaborn as sns\n",
    "import pandas as pd\n",
    "import matplotlib.pyplot as plt\n",
    "sns.set_style('white')"
   ]
  },
  {
   "cell_type": "markdown",
   "metadata": {},
   "source": [
    "El coeficiente de correlación de Pearson cuantifica la correlación entre dos variables numéricas. Dos variables tienen una correlación si tienen cierta dependencia la una de la otra. Este coeficiente sólo mide las relaciones lineales, es decir, que pueden ser representadas con una línea.\n",
    "\n",
    "El rango de valores posibles es el intervalo entre -1 y 1.\n",
    "\n",
    "---\n",
    "\n",
    "Un valor de -1 significa que hay una correlación negativa perfecta. Esto quiere decir que el aumento de una variable resulta en la disminución de la otra; y viceversa. Podemos graficar la relación entre dos variables con una *gráfica de dispersión*, o *scatterplot*, donde cada punto representa la intersección entre un valor de la variable `x` y un valor de la variable `y`. Si unimos los puntos con una línea que representa la relación entre las dos variables, una correlación de -1 se vería de la siguiente manera:"
   ]
  },
  {
   "cell_type": "code",
   "execution_count": 25,
   "metadata": {},
   "outputs": [
    {
     "data": {
      "image/png": "[encoded data removed]",
      "text/plain": [
       "<Figure size 432x288 with 1 Axes>"
      ]
     },
     "metadata": {},
     "output_type": "display_data"
    }
   ],
   "source": [
    "arr_1_1 = pd.Series([1, 2, 3, 4, 5, 6, 7, 8, 9, 10])\n",
    "arr_1_2 = pd.Series([10, 9, 8, 7, 6, 5, 4, 3, 2, 1])\n",
    "\n",
    "plt.scatter(arr_1_1, arr_1_2, c='m');\n",
    "plt.plot(arr_1_1, arr_1_2, c='c');"
   ]
  },
  {
   "cell_type": "markdown",
   "metadata": {},
   "source": [
    "---\n",
    "\n",
    "Un valor de 1 significa que hay una correlación positiva perfecta. Esto quiere decir que el aumento de una variable resulta en el aumento de la otra; y la disminución de una variable resulta en la disminución de la otra. Esta relación se vería de la siguiente manera:"
   ]
  },
  {
   "cell_type": "code",
   "execution_count": 26,
   "metadata": {},
   "outputs": [
    {
     "data": {
      "image/png": "[encoded data removed]",
      "text/plain": [
       "<Figure size 432x288 with 1 Axes>"
      ]
     },
     "metadata": {},
     "output_type": "display_data"
    }
   ],
   "source": [
    "arr_2_1 = pd.Series([1, 2, 3, 4, 5, 6, 7, 8, 9, 10])\n",
    "arr_2_2 = pd.Series([1, 2, 3, 4, 5, 6, 7, 8, 9, 10])\n",
    "\n",
    "plt.scatter(arr_2_1, arr_2_2, c='m');\n",
    "plt.plot(arr_2_1, arr_2_2, c='c');"
   ]
  },
  {
   "cell_type": "markdown",
   "metadata": {},
   "source": [
    "---\n",
    "\n",
    "En cambio, un valor de 0 implica que no existe ninguna correlación entre las variables. Son completamente independientes la una de la otra. Si cada muestra es un punto formado por un valor de la variable x y un valor de la variable y, podríamos visualizar esta falta de relación de esta manera:"
   ]
  },
  {
   "cell_type": "code",
   "execution_count": 27,
   "metadata": {},
   "outputs": [
    {
     "data": {
      "image/png": "[encoded data removed]",
      "text/plain": [
       "<Figure size 432x288 with 1 Axes>"
      ]
     },
     "metadata": {},
     "output_type": "display_data"
    }
   ],
   "source": [
    "arr_3_1 = pd.Series([1, 7, 1, 22, 54, 2, 7, 26, 3, 13, 37, 87, 63, 15, 16, 74, 56, 95, 78, 61, 12, 43, 63, 84])\n",
    "arr_3_2 = pd.Series([64, 43, 12, 4, 75, 46, 94, 46, 24, 5, 85, 67, 98, 15, 12, 53, 3, 85, 36, 24, 74, 57, 64, 13])\n",
    "\n",
    "plt.scatter(arr_3_1, arr_3_2, c='m');"
   ]
  },
  {
   "cell_type": "markdown",
   "metadata": {},
   "source": [
    "Como puedes ver, no hay manera de agregar una línea recta que represente la relación entre las dos variables."
   ]
  },
  {
   "cell_type": "markdown",
   "metadata": {},
   "source": [
    "---\n",
    "\n",
    "Podemos utilizar el método `corr` de `pandas` para calcular el coeficiente de correlación de Pearson:"
   ]
  },
  {
   "cell_type": "code",
   "execution_count": 30,
   "metadata": {},
   "outputs": [
    {
     "name": "stdout",
     "output_type": "stream",
     "text": [
      "Correlación entre las primeras dos Series: -0.9999999999999999\n"
     ]
    }
   ],
   "source": [
    "print(f'Correlación entre las primeras dos Series: {arr_1_1.corr(arr_1_2)}')"
   ]
  },
  {
   "cell_type": "code",
   "execution_count": 32,
   "metadata": {},
   "outputs": [
    {
     "name": "stdout",
     "output_type": "stream",
     "text": [
      "Correlación entre las segundas dos Series: 0.9999999999999999\n"
     ]
    }
   ],
   "source": [
    "print(f'Correlación entre las segundas dos Series: {arr_2_1.corr(arr_2_2)}')"
   ]
  },
  {
   "cell_type": "code",
   "execution_count": 31,
   "metadata": {},
   "outputs": [
    {
     "name": "stdout",
     "output_type": "stream",
     "text": [
      "Correlación entre las terceras dos Series: 0.22134946355611293\n"
     ]
    }
   ],
   "source": [
    "print(f'Correlación entre las terceras dos Series: {arr_3_1.corr(arr_3_2)}')"
   ]
  },
  {
   "cell_type": "markdown",
   "metadata": {},
   "source": [
    "---\n",
    "\n",
    "Obviamente las relaciones entre variables en el mundo real nunca son tan evidentes y perfectas como éstas. El coeficiente de correlación de Pearson simplemente nos ayuda a distinguir la naturaleza de la correlación (si es negativa, positiva o inexistente) y la fuerza de la correlación (qué tan cerca o lejos está de -1 o 1). Este coeficiente no tiene dirección, es decir, si la variable `a` y la variable `b` tienen un coeficiente de 8, podemos interpretarlo como que un aumento en la variable `a` implica comunmente un aumento de la variable `b`, **y también** podemos decir que un aumento en la variable `b` implica comunmente un aumento en la variable `a`."
   ]
  },
  {
   "cell_type": "markdown",
   "metadata": {},
   "source": [
    "---\n",
    "\n",
    "**- La correlación no implica necesariamente causalidad.**\n",
    "\n",
    "Es decir, el hecho de que haya una correlación alta entre dos variables no significa que una de las variables cause a la otra. Incluso podría suceder que la correlación se deba al azar y en realidad las variables son totalmente independientes la una de la otra.\n",
    "\n",
    "**- El coeficiente de correlación es muy sensible a valores atípicos.**\n",
    "\n",
    "Si hay valores atípicos en nuestro conjunto de datos, esto puede cambiar drásticamente el valor de nuestro coeficiente. Es por eso que siempre es importante trabajar con nuestros valores atípicos antes de investigar la relación entre las variables."
   ]
  },
  {
   "cell_type": "markdown",
   "metadata": {},
   "source": [
    "---\n",
    "\n",
    "Veamos en el siguiente Reto qué tan bueno eres para interpretar gráficas de relaciones entre variables."
   ]
  },
  {
   "cell_type": "code",
   "execution_count": null,
   "metadata": {},
   "outputs": [],
   "source": []
  }
 ],
 "metadata": {
  "kernelspec": {
   "display_name": "Python 3",
   "language": "python",
   "name": "python3"
  },
  "language_info": {
   "codemirror_mode": {
    "name": "ipython",
    "version": 3
   },
   "file_extension": ".py",
   "mimetype": "text/x-python",
   "name": "python",
   "nbconvert_exporter": "python",
   "pygments_lexer": "ipython3",
   "version": "3.8.5"
  }
 },
 "nbformat": 4,
 "nbformat_minor": 4
}
