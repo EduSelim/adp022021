{
 "cells": [
  {
   "cell_type": "markdown",
   "metadata": {},
   "source": [
    "## Reto 2: Regex\n",
    "\n",
    "### 1. Objetivos:\n",
    "    - Practicar expresiones regulares con un conjunto de datos real\n",
    " \n",
    "---\n",
    "    \n",
    "### 2. Desarrollo:"
   ]
  },
  {
   "cell_type": "markdown",
   "metadata": {},
   "source": [
    "Vamos a practicar expresiones regulares utilizando un conjunto de datos llamado 'amazon_fine_food_reviews-clean.csv'. Este conjunto de datos es en realidad un subconjunto de un conjunto más grande que proviene de [esta fuente](https://www.kaggle.com/snap/amazon-fine-food-reviews). Contiene evaluaciones de muchos diversos productos realizadas por usuarios de Amazon. La columna 'text' contiene el texto de la evaluación, y ésa es la columna que nos interesa.\n",
    "\n",
    "Vamos a practicar expresiones regulares con esa columna. Con cada búsqueda que realices vas a obtener un nuevo subconjunto de datos de un tamaño específico. Al terminar tus búsquedas compara el tamaño de tus subconjuntos de datos con los de tus compañeros, para checar que tus respuestas fueron correctas.\n",
    "\n",
    "Tu Reto es entonces obtener subconjunto de datos que tengan estas características:\n",
    "\n",
    "1. Todas las evaluaciones que contengan la palabra 'food' (en minúsculas).\n",
    "2. Todas las evaluaciones que contengan algún número de dos digitos.\n",
    "3. Todas las evaluaciones que contengan algún porcentaje (uno o más digitos seguidos de un signo de porcentaje).\n",
    "4. Todas las evaluaciones que comiencen con la palabra 'Dog' o 'dog'.\n",
    "5. Todas las evaluaciones que terminen con el fragmento 'awesome.' (fíjate que hay específicamente un punto después de la palabra 'awesome').\n",
    "6. Todas las evaluaciones que contengan las palabras 'horrible' **o** 'terrible'.\n",
    "7. Todas las evaluaciones que contengan **solamente** letras minúsculas.\n",
    "\n",
    "Después de realizar estas exploraciones, limpia tu conjunto de datos para remover lo siguiente de todos tus textos:\n",
    "\n",
    "1. Cualquier forma parecida a la siguiente: `<br>` o `<br/>` (revisa variaciones de estos tags, con espacios intermedios, por ejemplo)\n",
    "2. Signos en general\n",
    "3. Digitos\n",
    "4. Cualquier otra cosa que no te parezca relevante para nuestro análisis de lenguaje natural\n",
    "\n",
    "También convierte todas las letras en minúsculas para homogeneizar nuestro conjunto de datos.\n",
    "\n",
    "Guarda tu conjunto de datos como un archivo 'csv' para que lo puedas utilizar en los próximos retos (asegúrate de incluir **por lo menos** las columnas 'text' y 'score'."
   ]
  },
  {
   "cell_type": "code",
   "execution_count": null,
   "metadata": {},
   "outputs": [],
   "source": []
  }
 ],
 "metadata": {
  "kernelspec": {
   "display_name": "Python (data_science)",
   "language": "python",
   "name": "data_science"
  },
  "language_info": {
   "codemirror_mode": {
    "name": "ipython",
    "version": 3
   },
   "file_extension": ".py",
   "mimetype": "text/x-python",
   "name": "python",
   "nbconvert_exporter": "python",
   "pygments_lexer": "ipython3",
   "version": "3.7.6"
  }
 },
 "nbformat": 4,
 "nbformat_minor": 4
}
