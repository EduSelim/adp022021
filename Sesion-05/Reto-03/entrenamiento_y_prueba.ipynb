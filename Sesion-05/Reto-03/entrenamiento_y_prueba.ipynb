{
 "cells": [
  {
   "cell_type": "markdown",
   "metadata": {},
   "source": [
    "## Reto 3: Dataset de entrenamiento y de prueba\n",
    "\n",
    "### 1. Objetivos:\n",
    "    - Aplicar la técnica de división del dataset en entrenamiento y prueba para entrenar un modelo de Regresión Linear Múltiple\n",
    " \n",
    "---\n",
    "    \n",
    "### 2. Desarrollo:"
   ]
  },
  {
   "cell_type": "markdown",
   "metadata": {},
   "source": [
    "Para este Reto vamos a utilizar el dataset 'wine_quality_red-clean.csv'. Este dataset tiene muchas variables numéricas. Realiza los procesos que se enumeran a continuación. Explica paso a paso tu proceso para que puedas presentarlo a los demás.\n",
    "\n",
    "1. Explora las correlaciones que existen entre estas variables.\n",
    "2. Elige dos o más variables independientes y una variable dependiente.\n",
    "3. Explora las variables que elegiste para asegurarte de que estén limpias y de que no haya valores atípicos que puedan arruinar el modelo.\n",
    "4. Separa tus datos en dataset de entrenamiento y prueba usando `scikit-learn`.\n",
    "5. Entrena un modelo de Regresión Lineal Múltiple con tu dataset de entrenamiento.\n",
    "6. Evalúa tu modelo usando el dataset de prueba.\n",
    "7. Si crees que una combinación de variables pueda obtener mejor resultado, repite y el proceso.\n",
    "8. Presenta tus hallazgos a tus compañeros."
   ]
  },
  {
   "cell_type": "code",
   "execution_count": null,
   "metadata": {},
   "outputs": [],
   "source": []
  }
 ],
 "metadata": {
  "kernelspec": {
   "display_name": "Python (data_science)",
   "language": "python",
   "name": "data_science"
  },
  "language_info": {
   "codemirror_mode": {
    "name": "ipython",
    "version": 3
   },
   "file_extension": ".py",
   "mimetype": "text/x-python",
   "name": "python",
   "nbconvert_exporter": "python",
   "pygments_lexer": "ipython3",
   "version": "3.8.1"
  }
 },
 "nbformat": 4,
 "nbformat_minor": 4
}
